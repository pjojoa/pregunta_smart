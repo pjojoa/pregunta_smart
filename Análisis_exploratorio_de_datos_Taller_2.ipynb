{
  "nbformat": 4,
  "nbformat_minor": 0,
  "metadata": {
    "colab": {
      "private_outputs": true,
      "provenance": [],
      "mount_file_id": "1hbQVtE7U7M5feB0IXEGbH64oGPMyeVgj",
      "authorship_tag": "ABX9TyPI3A1C3Jkt/qOsAW7sC86E",
      "include_colab_link": true
    },
    "kernelspec": {
      "name": "python3",
      "display_name": "Python 3"
    },
    "language_info": {
      "name": "python"
    }
  },
  "cells": [
    {
      "cell_type": "markdown",
      "metadata": {
        "id": "view-in-github",
        "colab_type": "text"
      },
      "source": [
        "<a href=\"https://colab.research.google.com/github/pjojoa/pregunta_smart/blob/main/An%C3%A1lisis_exploratorio_de_datos_Taller_2.ipynb\" target=\"_parent\"><img src=\"https://colab.research.google.com/assets/colab-badge.svg\" alt=\"Open In Colab\"/></a>"
      ]
    },
    {
      "cell_type": "code",
      "execution_count": null,
      "metadata": {
        "id": "E925aztDeJDM"
      },
      "outputs": [],
      "source": [
        "#TALLER 2\n",
        "#Este conjunto de datos contiene a resistencia real a la compresión del concreto (MPa) para una mezcla dada bajo una edad específica (días), la cual se determinó en laboratorio.\n",
        "#El hormigón es el material más importante de la ingeniería civil. La resistencia a la compresión del hormigón es una función altamente no lineal de la edad y los ingredientes.\n",
        "#Estos ingredientes incluyen cemento, escoria de alto horno, cenizas volantes, agua, superplastificante, agregado grueso y agregado fino.\n",
        "\n",
        "#Analizaremos la columna de resistencia, la cual tiene los resultados de compresión del concreto bajo 8 caractreristicas y una Edad de maduración definida. La resistencia del concreto es vital\n",
        "#en el desarroollo de un proyecto civil, con el fin de lograr durabilidad, funcionalidad y seguridad.\n",
        "\n",
        "\n",
        "#00 Importar nuestros datos.\n",
        "\n",
        "import pandas as pd\n",
        "df = pd.read_excel(\"/content/dataset_concreto.xlsx\", sheet_name = \"dataset_concreto\")\n",
        "\n",
        "#01 Mostramos la composición de nuestro dataframe.\n",
        "df"
      ]
    },
    {
      "cell_type": "code",
      "source": [
        "#02 Ajustamos nombres de encabezados para faciliar la interpretación\n",
        "df.columns = ['Cemento', 'Escoria', 'Cenizas_volantes', 'Agua', 'Superplastificante', 'Agregrado_grueso',\n",
        "       'Agregado_Fino', 'Edad', 'Resistencia_Mpa']\n",
        "\n",
        "df"
      ],
      "metadata": {
        "id": "EyINvnI5jUZo"
      },
      "execution_count": null,
      "outputs": []
    },
    {
      "cell_type": "code",
      "source": [
        "#03 Inspeccionamos los tipos de datos de las variables de datos\n",
        "df.dtypes\n"
      ],
      "metadata": {
        "id": "BPlvvKKJkaoF"
      },
      "execution_count": null,
      "outputs": []
    },
    {
      "cell_type": "code",
      "source": [
        "#04 Información general de nuestro dataframe\n",
        "df.info()"
      ],
      "metadata": {
        "id": "yr7UxwTalfi-"
      },
      "execution_count": null,
      "outputs": []
    },
    {
      "cell_type": "code",
      "source": [
        "#05 Elejimos 1 columna de importancia para nuestro taller y realizamos un inspección estadistica de las misma.\n",
        "#Se escogio la columna Resistencia_Mpa la cual nos muetra los resultados de resitencia dependiendo las variables anteriores descritas.\n",
        "df[[\"Resistencia_Mpa\"]].describe()"
      ],
      "metadata": {
        "id": "P2HxmgMCmNU-"
      },
      "execution_count": null,
      "outputs": []
    },
    {
      "cell_type": "code",
      "source": [
        "#06 Mediante un Histograma identificaremos las resistencia que tiene mayor frecuencia\n",
        "import matplotlib.pyplot as plt\n",
        "plt.hist (df [\"Resistencia_Mpa\"])\n",
        "\n",
        "#Se identifica que los valores con mayor frecuencia en cuanto a la resistencia estan entre 20 y 40 Mpa.\n",
        "#Recordando en código anterior tenemos un min = 2.33 y un max = 82.60"
      ],
      "metadata": {
        "id": "rpyUV70kzV8g"
      },
      "execution_count": null,
      "outputs": []
    },
    {
      "cell_type": "code",
      "source": [
        "#07 También mediante un digrama de caja podemos afirmar las anteriores conclusiones\n",
        "import matplotlib.pyplot as plt\n",
        "sns.boxplot(x = df[\"Resistencia_Mpa\"])"
      ],
      "metadata": {
        "id": "NvgHQKAF0TGB"
      },
      "execution_count": null,
      "outputs": []
    },
    {
      "cell_type": "code",
      "source": [
        "#08 A continuación queremos ver la distribución de nuetsros datos y que tan dispersos se encuentran.\n",
        "import pandas as pd\n",
        "import numpy as np\n",
        "import matplotlib.pyplot as plt\n",
        "import seaborn as sns\n",
        "from scipy.stats import norm\n",
        "\n",
        "# Calcula la media y desviación estándar de la columna \"Resistencia_Mpa\"\n",
        "mean = df['Resistencia_Mpa'].mean()\n",
        "std_dev = df['Resistencia_Mpa'].std()\n",
        "\n",
        "# Genera los valores para la curva de la distribución normal\n",
        "x_values = np.linspace(df['Resistencia_Mpa'].min(), df['Resistencia_Mpa'].max(), 100)\n",
        "y_values = norm.pdf(x_values, mean, std_dev)\n",
        "\n",
        "# Grafica el histograma de los datos y la curva de la distribución normal\n",
        "plt.figure(figsize=(10, 6))\n",
        "sns.histplot(df['Resistencia_Mpa'], kde=False, stat=\"density\", bins=30, color='skyblue', label='Datos')\n",
        "plt.plot(x_values, y_values, color='red', label='Distribución Normal')\n",
        "\n",
        "# Añadir títulos y etiquetas\n",
        "plt.title('Distribución de la Resistencia (Mpa)')\n",
        "plt.xlabel('Resistencia (Mpa)')\n",
        "plt.ylabel('Densidad')\n",
        "plt.legend()\n",
        "\n",
        "plt.show()\n"
      ],
      "metadata": {
        "id": "VFSD-bwQbP6a"
      },
      "execution_count": null,
      "outputs": []
    },
    {
      "cell_type": "code",
      "source": [
        "#08 En este caso como ejercicio comparamos la resistencia del concreto con respecto a la cantidad de cemento\n",
        "# Aqui vemos que se tiene una tendencia en la que al aumentar el cemento la resistencia incrementa\n",
        "import matplotlib.pyplot as plt\n",
        "%matplotlib inline\n",
        "\n",
        "import seaborn as sns\n",
        "\n",
        "plt.scatter(df[\"Cemento\"], df[\"Resistencia_Mpa\"])\n",
        "plt.show()\n",
        "\n"
      ],
      "metadata": {
        "id": "0sS1Dt2fp6N7"
      },
      "execution_count": null,
      "outputs": []
    },
    {
      "cell_type": "code",
      "source": [
        "#09 Como segundo ejercicio complementamos la anterior premisa teniendu en cuenta la Edad de maduración.\n",
        "sns.scatterplot(x = df[\"Cemento\"], y = df[\"Resistencia_Mpa\"], hue = df[\"Edad\"])"
      ],
      "metadata": {
        "id": "QNTfojCGrONC"
      },
      "execution_count": null,
      "outputs": []
    },
    {
      "cell_type": "code",
      "source": [
        "#10 Como ejercicio analizamos las 8 variables que modifican la resistencia del concreto.\n",
        "df.drop('Resistencia_Mpa', axis=1).plot(kind='box', subplots=True, layout=(4,4), sharex=False, sharey=False, figsize=(15,15), title='Box Plot para las variables de entrada')\n",
        "#plt.savefig('vino')\n",
        "plt.show()"
      ],
      "metadata": {
        "id": "JT-_wkseomhv"
      },
      "execution_count": null,
      "outputs": []
    },
    {
      "cell_type": "code",
      "source": [
        "# 11 Finalmente complemetamos el anterior grafico con los siguientes resultados estadisticos.\n",
        "df.describe()\n"
      ],
      "metadata": {
        "id": "P_OUCdPdH6x6"
      },
      "execution_count": null,
      "outputs": []
    },
    {
      "cell_type": "code",
      "source": [
        "#Conclusiónes:\n",
        "#Tras el análisis de una columna de nuestro Dataframe, en este caso la columna “Resistencia_Mpa” #tenemos las siguientes conclusiones:\n",
        "#La columna se compone por números dlotantes es decir con decimales\n",
        "# La columna no presenta datos nulos.\n",
        "#Se observo que las resistencias con mas frecuencia se encuentran en un rango de  20  a 45 Mpa.\n",
        "# El valor mínimo de la resistencia es de 2.33 para una edad de maduración de 1 día.\n",
        "#El valor máximo de la resistencia es de 82.6 para una edad de 365 días\n",
        "#Con las 2 anteriores premisas podemos inferir que la resistencia es directamente proporcional con la Edad de maduración.\n",
        "# Los datos presentan una dispersión moderada pues la mayoría de sus datos están cercanos a la media.\n"
      ],
      "metadata": {
        "id": "iU82542hWKod"
      },
      "execution_count": null,
      "outputs": []
    }
  ]
}